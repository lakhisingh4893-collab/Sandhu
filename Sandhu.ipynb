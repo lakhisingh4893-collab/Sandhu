{
  "nbformat": 4,
  "nbformat_minor": 0,
  "metadata": {
    "colab": {
      "provenance": [],
      "authorship_tag": "ABX9TyOasmZgg+2jgg6bQwLrlhsQ",
      "include_colab_link": true
    },
    "kernelspec": {
      "name": "python3",
      "display_name": "Python 3"
    },
    "language_info": {
      "name": "python"
    }
  },
  "cells": [
    {
      "cell_type": "markdown",
      "metadata": {
        "id": "view-in-github",
        "colab_type": "text"
      },
      "source": [
        "<a href=\"https://colab.research.google.com/github/lakhisingh4893-collab/Sandhu/blob/main/Sandhu.ipynb\" target=\"_parent\"><img src=\"https://colab.research.google.com/assets/colab-badge.svg\" alt=\"Open In Colab\"/></a>"
      ]
    },
    {
      "cell_type": "code",
      "execution_count": 1,
      "metadata": {
        "colab": {
          "base_uri": "https://localhost:8080/"
        },
        "id": "WmdVQwvhAMbY",
        "outputId": "30e973b4-37ea-4e90-d86b-98a2f9a2bef0"
      },
      "outputs": [
        {
          "output_type": "stream",
          "name": "stdout",
          "text": [
            "im dilpreet sandhu\n"
          ]
        }
      ],
      "source": [
        "print(\"im dilpreet sandhu\")"
      ]
    },
    {
      "cell_type": "code",
      "source": [
        "#bio data\n",
        "print(\"biodata\")\n",
        "print(\"name: dilpreet\")\n",
        "print(\"father: name bahadar sandhu\")\n",
        "print(\"mother :name sunita kaur\")\n",
        "print(\"qualification :BA\")\n",
        "print(\"im from :ramgarh sandhuan\")\n",
        "print(\"country :india\")\n",
        "print(\"phone num :8847276599\")\n",
        "print(\"weight :85\")\n",
        "print(\"height :5 11\")\n",
        "print(\"business :farming\")\n",
        "print(\"DOB :29-10-2000\")"
      ],
      "metadata": {
        "colab": {
          "base_uri": "https://localhost:8080/"
        },
        "id": "EJU-jISGDoqf",
        "outputId": "82650ec0-8824-4e6b-f5b1-0b30c8d97bd9"
      },
      "execution_count": 4,
      "outputs": [
        {
          "output_type": "stream",
          "name": "stdout",
          "text": [
            "biodata\n",
            "name: dilpreet\n",
            "father: name bahadar sandhu\n",
            "mother :name sunita kaur\n",
            "qualification :BA\n",
            "im from :ramgarh sandhuan\n",
            "country :india\n",
            "phone num :8847276599\n",
            "weight :85\n",
            "height :5 11\n",
            "business :farming\n",
            "DOB :29-10-2000\n"
          ]
        }
      ]
    },
    {
      "cell_type": "code",
      "source": [
        "name=\"5\"\n",
        "print(\"name. :\", name)\n",
        "age=27\n",
        "print(\"age\", age)\n"
      ],
      "metadata": {
        "colab": {
          "base_uri": "https://localhost:8080/"
        },
        "id": "bZEGn0OEJ32L",
        "outputId": "9f1534cb-b5a5-41d8-ca9c-4ecdd9495dd2"
      },
      "execution_count": 7,
      "outputs": [
        {
          "output_type": "stream",
          "name": "stdout",
          "text": [
            "name. : 5\n",
            "age 27\n"
          ]
        }
      ]
    }
  ]
}